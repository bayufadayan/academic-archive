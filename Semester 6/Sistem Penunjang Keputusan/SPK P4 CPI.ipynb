{
  "nbformat": 4,
  "nbformat_minor": 0,
  "metadata": {
    "colab": {
      "provenance": []
    },
    "kernelspec": {
      "name": "python3",
      "display_name": "Python 3"
    },
    "language_info": {
      "name": "python"
    }
  },
  "cells": [
    {
      "cell_type": "markdown",
      "source": [
        "# Alternatif"
      ],
      "metadata": {
        "id": "tsuiOOa5R6Wu"
      }
    },
    {
      "cell_type": "code",
      "execution_count": null,
      "metadata": {
        "colab": {
          "base_uri": "https://localhost:8080/"
        },
        "id": "bdb8czrCRtSJ",
        "outputId": "caf98015-1abd-4fd6-deaf-bbda4c63d2ec"
      },
      "outputs": [
        {
          "name": "stdout",
          "output_type": "stream",
          "text": [
            "Masukan banyak alternatif : 4\n"
          ]
        }
      ],
      "source": [
        "alternatif = []\n",
        "alt = int(input('Masukan banyak alternatif : '))"
      ]
    },
    {
      "cell_type": "code",
      "source": [
        "for i in range (0, alt) :\n",
        "  ele = input()\n",
        "  alternatif.append(ele)\n",
        "\n",
        "print(alternatif)"
      ],
      "metadata": {
        "colab": {
          "base_uri": "https://localhost:8080/"
        },
        "id": "6HwxvzVvSM0k",
        "outputId": "50f89008-2e26-4344-fadc-a6741447bf23"
      },
      "execution_count": null,
      "outputs": [
        {
          "output_type": "stream",
          "name": "stdout",
          "text": [
            "Toni\n",
            "Roni\n",
            "Joni\n",
            "Soni\n",
            "['Toni', 'Roni', 'Joni', 'Soni']\n"
          ]
        }
      ]
    },
    {
      "cell_type": "markdown",
      "source": [
        "# Kriteria"
      ],
      "metadata": {
        "id": "GNEhoh3-S92k"
      }
    },
    {
      "cell_type": "code",
      "source": [
        "kriteria = []\n",
        "krt = int(input('Masukan banyak Kriteria : '))"
      ],
      "metadata": {
        "colab": {
          "base_uri": "https://localhost:8080/"
        },
        "id": "3fzkNLAWSml5",
        "outputId": "1d80821a-1997-45a6-e971-7eca9bd1a641"
      },
      "execution_count": null,
      "outputs": [
        {
          "name": "stdout",
          "output_type": "stream",
          "text": [
            "Masukan banyak Kriteria : 5\n"
          ]
        }
      ]
    },
    {
      "cell_type": "code",
      "source": [
        "for i in range (0, krt) :\n",
        "  ele = input()\n",
        "  kriteria.append(ele)\n",
        "\n",
        "print(kriteria)"
      ],
      "metadata": {
        "colab": {
          "base_uri": "https://localhost:8080/"
        },
        "id": "14WKkc1UTF2S",
        "outputId": "f22121de-fcf5-49f6-ddde-be58953e13d1"
      },
      "execution_count": null,
      "outputs": [
        {
          "output_type": "stream",
          "name": "stdout",
          "text": [
            "pengalaman\n",
            "tingkat pendidikan\n",
            "keterlambatan\n",
            "kecerdasan\n",
            "emosi\n",
            "['pengalaman', 'tingkat pendidikan', 'keterlambatan', 'kecerdasan', 'emosi']\n"
          ]
        }
      ]
    },
    {
      "cell_type": "markdown",
      "source": [
        "# Tren dan Bobot"
      ],
      "metadata": {
        "id": "tGYpI_iqUHT1"
      }
    },
    {
      "cell_type": "code",
      "source": [
        "tren = []\n",
        "for i in range (0, krt):\n",
        "  ele = input()\n",
        "  tren.append(ele)\n",
        "\n",
        "print(tren)"
      ],
      "metadata": {
        "colab": {
          "base_uri": "https://localhost:8080/"
        },
        "id": "wM08PxCVTsJB",
        "outputId": "3c64e9fc-bbe5-4580-8927-0aa82cb5ec4f"
      },
      "execution_count": null,
      "outputs": [
        {
          "output_type": "stream",
          "name": "stdout",
          "text": [
            "positif\n",
            "positif\n",
            "negatif\n",
            "positif\n",
            "positif\n",
            "['positif', 'positif', 'negatif', 'positif', 'positif']\n"
          ]
        }
      ]
    },
    {
      "cell_type": "code",
      "source": [
        "bobot = []\n",
        "for i in range (0, krt):\n",
        "  ele = float(input())\n",
        "  bobot.append(ele)\n",
        "\n",
        "print(bobot)"
      ],
      "metadata": {
        "colab": {
          "base_uri": "https://localhost:8080/"
        },
        "id": "N7q_UDtxUbeK",
        "outputId": "2243c5b3-d3f5-4ea9-a777-5430b8818c09"
      },
      "execution_count": null,
      "outputs": [
        {
          "output_type": "stream",
          "name": "stdout",
          "text": [
            "0.3\n",
            "0.25\n",
            "0.1\n",
            "0.25\n",
            "0.1\n",
            "[0.3, 0.25, 0.1, 0.25, 0.1]\n"
          ]
        }
      ]
    },
    {
      "cell_type": "markdown",
      "source": [
        "# Nilai setiap alternatif per kriteria"
      ],
      "metadata": {
        "id": "GsNvy9c8Wd7G"
      }
    },
    {
      "cell_type": "code",
      "source": [
        "nilai = []\n",
        "temp = []\n",
        "\n",
        "for i in range(0, alt) :\n",
        "  for j in range(0, krt):\n",
        "    print(f\"Kriteria {kriteria[j]} untuk {alternatif[i]}\")\n",
        "    ele = int(input())\n",
        "    temp.append(ele)\n",
        "\n",
        "    if len(temp) == krt:\n",
        "      nilai.append(temp)\n",
        "      temp = []\n",
        "  print('=================')\n",
        "\n",
        "print(nilai)"
      ],
      "metadata": {
        "colab": {
          "base_uri": "https://localhost:8080/"
        },
        "id": "jqCWrh66VsuC",
        "outputId": "6c6f7685-c563-4e3d-c6ab-2c0b35c7a89f"
      },
      "execution_count": null,
      "outputs": [
        {
          "output_type": "stream",
          "name": "stdout",
          "text": [
            "Kriteria pengalaman untuk Toni\n",
            "8\n",
            "Kriteria tingkat pendidikan untuk Toni\n",
            "8\n",
            "Kriteria keterlambatan untuk Toni\n",
            "2\n",
            "Kriteria kecerdasan untuk Toni\n",
            "8\n",
            "Kriteria emosi untuk Toni\n",
            "9\n",
            "Kriteria pengalaman untuk Roni\n",
            "7\n",
            "Kriteria tingkat pendidikan untuk Roni\n",
            "6\n",
            "Kriteria keterlambatan untuk Roni\n",
            "2\n",
            "Kriteria kecerdasan untuk Roni\n",
            "9\n",
            "Kriteria emosi untuk Roni\n",
            "5\n",
            "Kriteria pengalaman untuk Joni\n",
            "9\n",
            "Kriteria tingkat pendidikan untuk Joni\n",
            "7\n",
            "Kriteria keterlambatan untuk Joni\n",
            "3\n",
            "Kriteria kecerdasan untuk Joni\n",
            "8\n",
            "Kriteria emosi untuk Joni\n",
            "6\n",
            "Kriteria pengalaman untuk Soni\n",
            "5\n",
            "Kriteria tingkat pendidikan untuk Soni\n",
            "8\n",
            "Kriteria keterlambatan untuk Soni\n",
            "1\n",
            "Kriteria kecerdasan untuk Soni\n",
            "7\n",
            "Kriteria emosi untuk Soni\n",
            "4\n",
            "[[8, 8, 2, 8, 9], [7, 6, 2, 9, 5], [9, 7, 3, 8, 6], [5, 8, 1, 7, 4]]\n"
          ]
        }
      ]
    },
    {
      "cell_type": "markdown",
      "source": [
        "# Pencarian nilai minimum per kriteria"
      ],
      "metadata": {
        "id": "C4mhX6dZYTR2"
      }
    },
    {
      "cell_type": "code",
      "source": [
        "nilai_minimum = []\n",
        "\n",
        "for i in range (len(kriteria)):\n",
        "  nilai_minimum.append(0)\n",
        "  for j in range (len(alternatif)):\n",
        "    if j == 0 or nilai_minimum[i] > nilai [j][i] :\n",
        "      nilai_minimum[i] = nilai [j][i]\n",
        "\n",
        "print('Nilai minimum masing - masing kriteria : ')\n",
        "print(kriteria)\n",
        "print(nilai_minimum)"
      ],
      "metadata": {
        "colab": {
          "base_uri": "https://localhost:8080/"
        },
        "id": "lWuijvuYXU5b",
        "outputId": "2fc4f1f4-aacb-485d-dee2-54f21cd00dbf"
      },
      "execution_count": null,
      "outputs": [
        {
          "output_type": "stream",
          "name": "stdout",
          "text": [
            "Nilai minimum masing - masing kriteria : \n",
            "['pengalaman', 'tingkat pendidikan', 'keterlambatan', 'kecerdasan', 'emosi']\n",
            "[5, 6, 1, 7, 4]\n"
          ]
        }
      ]
    },
    {
      "cell_type": "markdown",
      "source": [
        "# Hitung hitungan"
      ],
      "metadata": {
        "id": "esBXnSLSaHPr"
      }
    },
    {
      "cell_type": "code",
      "source": [
        "cpi = []\n",
        "\n",
        "for i in range(len(alternatif)):\n",
        "    cpi.append([])\n",
        "    for j in range(len(kriteria)):\n",
        "        cpi[i].append(0)\n",
        "        if tren[j] == 'negatif':\n",
        "            cpi[i][j] = (nilai_minimum[j] / nilai[j][i]) * 100\n",
        "        else:\n",
        "            cpi[i][j] = (nilai[i][j] / nilai_minimum[j]) * 100\n",
        "\n",
        "print('Hasil Perhitungan :', cpi)\n"
      ],
      "metadata": {
        "colab": {
          "base_uri": "https://localhost:8080/"
        },
        "id": "14PP99c-ZCyW",
        "outputId": "6143d925-edec-4b63-d86a-89cf2022e6fc"
      },
      "execution_count": null,
      "outputs": [
        {
          "output_type": "stream",
          "name": "stdout",
          "text": [
            "Hasil Perhitungan : [[160.0, 133.33333333333331, 11.11111111111111, 114.28571428571428, 225.0], [140.0, 100.0, 14.285714285714285, 128.57142857142858, 125.0], [180.0, 116.66666666666667, 33.33333333333333, 114.28571428571428, 150.0], [100.0, 133.33333333333331, 12.5, 100.0, 100.0]]\n"
          ]
        }
      ]
    },
    {
      "cell_type": "code",
      "source": [
        "hasil = []\n",
        "\n",
        "for i in range(len(alternatif)) :\n",
        "  hasil.append(0)\n",
        "  for j in range(len(kriteria)):\n",
        "    hasil[i] = hasil[i] + ((cpi[i][j] * bobot[j]))\n",
        "\n",
        "print(\"Hasil Analisa CPI (unsorted) : \")\n",
        "print(alternatif)\n",
        "print(str(hasil))"
      ],
      "metadata": {
        "colab": {
          "base_uri": "https://localhost:8080/"
        },
        "id": "D9P62Z9IbZr-",
        "outputId": "c734fd22-dabe-400e-ecd3-78cef3ce10cd"
      },
      "execution_count": null,
      "outputs": [
        {
          "output_type": "stream",
          "name": "stdout",
          "text": [
            "Hasil Analisa CPI (unsorted) : \n",
            "['Toni', 'Roni', 'Joni', 'Soni']\n",
            "[133.515873015873, 113.07142857142858, 130.07142857142856, 99.58333333333333]\n"
          ]
        }
      ]
    },
    {
      "cell_type": "code",
      "source": [],
      "metadata": {
        "id": "m5pbnKuUcQ1e"
      },
      "execution_count": null,
      "outputs": []
    }
  ]
}