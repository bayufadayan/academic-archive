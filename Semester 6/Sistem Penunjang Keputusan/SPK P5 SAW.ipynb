{
  "nbformat": 4,
  "nbformat_minor": 0,
  "metadata": {
    "colab": {
      "provenance": []
    },
    "kernelspec": {
      "name": "python3",
      "display_name": "Python 3"
    },
    "language_info": {
      "name": "python"
    }
  },
  "cells": [
    {
      "cell_type": "code",
      "execution_count": 1,
      "metadata": {
        "id": "Sre9r2hZiTod"
      },
      "outputs": [],
      "source": [
        "alternatif = [\"Samsung S21\", \"Iphone 13\", \"OnePlus 9 Pro\", \"Google Pixel 6\" ];"
      ]
    },
    {
      "cell_type": "code",
      "source": [
        "kriteria = [\"Harga\", \"Kualitas Kamera\", \"Performa\"]"
      ],
      "metadata": {
        "id": "qdCkvVZ0ifpa"
      },
      "execution_count": 2,
      "outputs": []
    },
    {
      "cell_type": "code",
      "source": [
        "costbenefit = [\"cost\", \"benefit\", \"benefit\"]"
      ],
      "metadata": {
        "id": "-xl2VDFfihIZ"
      },
      "execution_count": 3,
      "outputs": []
    },
    {
      "cell_type": "code",
      "source": [
        "kepentingan = [0.4, 0.3, 0.3]"
      ],
      "metadata": {
        "id": "xGCzj5v9iiVK"
      },
      "execution_count": 4,
      "outputs": []
    },
    {
      "cell_type": "code",
      "source": [
        "alternatifkriteria = [\n",
        "    [800, 9, 8],\n",
        "    [999, 9, 9],\n",
        "    [899, 8, 9],\n",
        "    [699, 9, 8],\n",
        "    ]"
      ],
      "metadata": {
        "id": "84HmWeZ5iiqS"
      },
      "execution_count": 6,
      "outputs": []
    },
    {
      "cell_type": "code",
      "source": [
        "pembagi = []"
      ],
      "metadata": {
        "id": "5iUuPgSuiq76"
      },
      "execution_count": 7,
      "outputs": []
    },
    {
      "cell_type": "code",
      "source": [
        "# Inisialisasi pembagi dengan nilai awal\n",
        "for i in range(len(kriteria)):\n",
        "  pembagi.append(0)\n",
        "\n",
        "# Iterasi untuk mengisi nilai pembagi\n",
        "for i in range(len(kriteria)):\n",
        "  for j in range(len(alternatifkriteria)):\n",
        "    if costbenefit[i] == 'cost':\n",
        "      if j == 0:\n",
        "        pembagi[i] = alternatifkriteria[j][i]\n",
        "      else:\n",
        "        if pembagi[i] > alternatifkriteria[j][i]:\n",
        "          pembagi[i] = alternatifkriteria[j][i]\n",
        "    elif costbenefit[i] == 'benefit':\n",
        "      if j == 0:\n",
        "        pembagi[i] = alternatifkriteria[j][i]\n",
        "      else:\n",
        "        if pembagi[i] < alternatifkriteria[j][i]:\n",
        "          pembagi[i] = alternatifkriteria[j][i]"
      ],
      "metadata": {
        "id": "tlrDQQCvixmp"
      },
      "execution_count": 8,
      "outputs": []
    },
    {
      "cell_type": "code",
      "source": [
        "print(pembagi)"
      ],
      "metadata": {
        "colab": {
          "base_uri": "https://localhost:8080/"
        },
        "id": "ygEiZJNcjpLP",
        "outputId": "cf60a164-8110-4c88-caf0-58b802268a94"
      },
      "execution_count": 9,
      "outputs": [
        {
          "output_type": "stream",
          "name": "stdout",
          "text": [
            "[699, 9, 9]\n"
          ]
        }
      ]
    },
    {
      "cell_type": "code",
      "source": [
        "normalisasi = []"
      ],
      "metadata": {
        "id": "UXMsilZqjqoy"
      },
      "execution_count": 10,
      "outputs": []
    },
    {
      "cell_type": "code",
      "source": [
        "for i in range(len(alternatif)):\n",
        "  normalisasi.append([])\n",
        "  for j in range(len(kriteria)):\n",
        "    normalisasi[i].append(0)\n",
        "    if costbenefit[j] == 'cost':\n",
        "      normalisasi[i][j] = pembagi[j] / alternatifkriteria[i][j]\n",
        "    elif costbenefit[j] == 'benefit':\n",
        "      normalisasi[i][j] = alternatifkriteria[i][j] / pembagi[j]"
      ],
      "metadata": {
        "id": "rMp0y-IujwI3"
      },
      "execution_count": 11,
      "outputs": []
    },
    {
      "cell_type": "code",
      "source": [
        "print(normalisasi)"
      ],
      "metadata": {
        "colab": {
          "base_uri": "https://localhost:8080/"
        },
        "id": "mSVtbdZwj63B",
        "outputId": "ba733593-3d08-40be-e2fe-d9b8539c2822"
      },
      "execution_count": 12,
      "outputs": [
        {
          "output_type": "stream",
          "name": "stdout",
          "text": [
            "[[0.87375, 1.0, 0.8888888888888888], [0.6996996996996997, 1.0, 1.0], [0.7775305895439377, 0.8888888888888888, 1.0], [1.0, 1.0, 0.8888888888888888]]\n"
          ]
        }
      ]
    },
    {
      "cell_type": "code",
      "source": [
        "hasil=[]"
      ],
      "metadata": {
        "id": "sbO4Kt2yj8n9"
      },
      "execution_count": 13,
      "outputs": []
    },
    {
      "cell_type": "code",
      "source": [
        "for i in range(len(alternatif)):\n",
        "  hasil.append(0)\n",
        "  for j in range(len(kriteria)):\n",
        "    hasil[i] = hasil[i] + (normalisasi [i][j] * kepentingan[j])"
      ],
      "metadata": {
        "id": "5rlN2ifIj_8h"
      },
      "execution_count": 15,
      "outputs": []
    },
    {
      "cell_type": "code",
      "source": [
        "print(alternatif)"
      ],
      "metadata": {
        "colab": {
          "base_uri": "https://localhost:8080/"
        },
        "id": "0PoG_XI3kJFB",
        "outputId": "03d8e49a-7037-4d68-a046-ec4441420698"
      },
      "execution_count": 16,
      "outputs": [
        {
          "output_type": "stream",
          "name": "stdout",
          "text": [
            "['Samsung S21', 'Iphone 13', 'OnePlus 9 Pro', 'Google Pixel 6']\n"
          ]
        }
      ]
    },
    {
      "cell_type": "code",
      "source": [
        "print(hasil)"
      ],
      "metadata": {
        "colab": {
          "base_uri": "https://localhost:8080/"
        },
        "id": "S_jWPIoYkOj9",
        "outputId": "52d8af89-eaf3-4cb8-de7d-f3b860b5d848"
      },
      "execution_count": 17,
      "outputs": [
        {
          "output_type": "stream",
          "name": "stdout",
          "text": [
            "[0.9161666666666666, 0.8798798798798799, 0.8776789024842417, 0.9666666666666666, 0]\n"
          ]
        }
      ]
    },
    {
      "cell_type": "code",
      "source": [
        "hasil_urut = sorted (hasil, reverse=True)\n",
        "\n",
        "print(\"Hasil Ranking:\")\n",
        "for i in range(len(hasil_urut)):\n",
        "  print(f\"{i+1}. {hasil_urut[i]}\")"
      ],
      "metadata": {
        "colab": {
          "base_uri": "https://localhost:8080/"
        },
        "id": "zihOP3mYkQHC",
        "outputId": "7275be0c-889f-4be5-be81-14300e50a547"
      },
      "execution_count": 18,
      "outputs": [
        {
          "output_type": "stream",
          "name": "stdout",
          "text": [
            "Hasil Ranking:\n",
            "1. 0.9666666666666666\n",
            "2. 0.9161666666666666\n",
            "3. 0.8798798798798799\n",
            "4. 0.8776789024842417\n",
            "5. 0\n"
          ]
        }
      ]
    },
    {
      "cell_type": "code",
      "source": [],
      "metadata": {
        "id": "3FPUyjN6kZiM"
      },
      "execution_count": null,
      "outputs": []
    }
  ]
}