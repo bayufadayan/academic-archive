{
 "cells": [
  {
   "cell_type": "markdown",
   "metadata": {},
   "source": []
  },
  {
   "cell_type": "code",
   "execution_count": 14,
   "metadata": {},
   "outputs": [],
   "source": [
    "alternatif = []\n",
    "alt = int(input('Masukan jumlah alternatif: '))"
   ]
  },
  {
   "cell_type": "code",
   "execution_count": 15,
   "metadata": {},
   "outputs": [
    {
     "name": "stdout",
     "output_type": "stream",
     "text": [
      "['vene', 'siti', 'amal']\n"
     ]
    }
   ],
   "source": [
    "for i in range(0, alt) :\n",
    "    dika = input()\n",
    "    alternatif.append(dika)\n",
    "    \n",
    "print(alternatif)"
   ]
  },
  {
   "cell_type": "code",
   "execution_count": 16,
   "metadata": {},
   "outputs": [],
   "source": [
    "kriteria = []\n",
    "krt = int(input('Masukan jumlah kriteria'))"
   ]
  },
  {
   "cell_type": "code",
   "execution_count": 17,
   "metadata": {},
   "outputs": [
    {
     "name": "stdout",
     "output_type": "stream",
     "text": [
      "['ipk', 'umr', 'jarak']\n"
     ]
    }
   ],
   "source": [
    "for i in range(0, alt) :\n",
    "    dika = input()\n",
    "    kriteria.append(dika)\n",
    "    \n",
    "print(kriteria)"
   ]
  },
  {
   "cell_type": "code",
   "execution_count": 22,
   "metadata": {},
   "outputs": [
    {
     "name": "stdout",
     "output_type": "stream",
     "text": [
      "[0.2, 0.4, 0.1]\n"
     ]
    }
   ],
   "source": [
    "bobot= []\n",
    "for i in range(0, alt) :\n",
    "    ele = float(input())\n",
    "    bobot.append(ele)\n",
    "    \n",
    "print(bobot)"
   ]
  },
  {
   "cell_type": "code",
   "execution_count": 19,
   "metadata": {},
   "outputs": [
    {
     "name": "stdout",
     "output_type": "stream",
     "text": [
      "['benefit', 'cost', 'cost']\n"
     ]
    }
   ],
   "source": [
    "keterangan = []\n",
    "for i in range (0, krt):\n",
    "    ele = input()\n",
    "    keterangan.append(ele)\n",
    "    \n",
    "print(keterangan)\n"
   ]
  },
  {
   "cell_type": "code",
   "execution_count": 20,
   "metadata": {},
   "outputs": [
    {
     "name": "stdout",
     "output_type": "stream",
     "text": [
      "0.7000000000000001\n"
     ]
    }
   ],
   "source": [
    "total_bobot = sum(bobot)\n",
    "print(total_bobot)"
   ]
  },
  {
   "cell_type": "code",
   "execution_count": 23,
   "metadata": {},
   "outputs": [
    {
     "name": "stdout",
     "output_type": "stream",
     "text": [
      "[0.2857142857142857, 0.5714285714285714, 0.14285714285714285]\n"
     ]
    }
   ],
   "source": [
    "if (total_bobot != 1) :\n",
    "    for i in range(0, krt):\n",
    "        bobot[i] = bobot[i]/total_bobot\n",
    "    print(bobot)\n"
   ]
  },
  {
   "cell_type": "code",
   "execution_count": 24,
   "metadata": {},
   "outputs": [
    {
     "name": "stdout",
     "output_type": "stream",
     "text": [
      "1\n"
     ]
    }
   ],
   "source": [
    "nilai = sum(bobot)\n",
    "print(round(nilai))"
   ]
  },
  {
   "cell_type": "code",
   "execution_count": 25,
   "metadata": {},
   "outputs": [
    {
     "name": "stdout",
     "output_type": "stream",
     "text": [
      "[[3, 5, 3], [5, 3, 1], [1, 5, 3]]\n"
     ]
    }
   ],
   "source": [
    "nilai_alt = []\n",
    "nilai_krt = []\n",
    "\n",
    "for i in range (0, alt):\n",
    "    for j in range(0, krt):\n",
    "        ele = int(input())\n",
    "        nilai_krt.append(ele)\n",
    "        if len(nilai_krt) == krt:\n",
    "            nilai_alt.append(nilai_krt)\n",
    "            nilai_krt = []\n",
    "            \n",
    "print(nilai_alt)"
   ]
  },
  {
   "cell_type": "code",
   "execution_count": 28,
   "metadata": {},
   "outputs": [
    {
     "name": "stdout",
     "output_type": "stream",
     "text": [
      "['ipk', 'umr', 'jarak']\n",
      "['benefit', 'cost', 'cost'] \n",
      " [-0.2857142857142857, -0.5714285714285714, -0.14285714285714285]\n"
     ]
    }
   ],
   "source": [
    "for i in range (0, krt):\n",
    "    if (keterangan[1] == 'cost'):\n",
    "        bobot[i] = bobot[i] * -1\n",
    "        \n",
    "print(kriteria)\n",
    "print(keterangan,\"\\n\", bobot)\n"
   ]
  },
  {
   "cell_type": "code",
   "execution_count": 29,
   "metadata": {},
   "outputs": [
    {
     "name": "stdout",
     "output_type": "stream",
     "text": [
      "[[0.7305999556432364, 0.3986470631277377, 0.8547513999071522], [0.6313850355589192, 0.5337762951858991, 1.0], [1.0, 0.3986470631277377, 0.8547513999071522]]\n"
     ]
    }
   ],
   "source": [
    "nilai_alt_akhir = []\n",
    "nilai_krt_akhir = []\n",
    "\n",
    "for i in range (0, krt):\n",
    "    for j in range(0, alt):\n",
    "        ele = pow(nilai_alt[i][j], bobot[j])\n",
    "        nilai_krt_akhir.append(ele)\n",
    "        if len(nilai_krt_akhir) == krt:\n",
    "            nilai_alt_akhir.append(nilai_krt_akhir)\n",
    "            nilai_krt_akhir = []\n",
    "            \n",
    "print(nilai_alt_akhir)"
   ]
  },
  {
   "cell_type": "code",
   "execution_count": 30,
   "metadata": {},
   "outputs": [
    {
     "name": "stdout",
     "output_type": "stream",
     "text": [
      "[0.24894765011929465, 0.33701836511645705, 0.3407441352773087]\n"
     ]
    }
   ],
   "source": [
    "from functools import reduce\n",
    "from operator import mul\n",
    "\n",
    "hasil = [reduce(mul, nilai_krt_akhir) for nilai_krt_akhir in nilai_alt_akhir]\n",
    "print(hasil)"
   ]
  },
  {
   "cell_type": "code",
   "execution_count": 34,
   "metadata": {},
   "outputs": [
    {
     "name": "stdout",
     "output_type": "stream",
     "text": [
      "0.9267101505130604\n"
     ]
    }
   ],
   "source": [
    "nilai_akhir = sum(hasil)\n",
    "print(nilai_akhir)"
   ]
  },
  {
   "cell_type": "code",
   "execution_count": 35,
   "metadata": {},
   "outputs": [
    {
     "name": "stdout",
     "output_type": "stream",
     "text": [
      "[0.26863593754904724, 0.3636718179140171, 0.3676922445369357]\n"
     ]
    }
   ],
   "source": [
    "rank = []\n",
    "for i in range(0, alt):\n",
    "    ranking = hasil[i] / nilai_akhir\n",
    "    rank.append(ranking)\n",
    "print(rank)"
   ]
  },
  {
   "cell_type": "code",
   "execution_count": 36,
   "metadata": {},
   "outputs": [
    {
     "name": "stdout",
     "output_type": "stream",
     "text": [
      "[0.3676922445369357, 0.3636718179140171, 0.26863593754904724]\n"
     ]
    }
   ],
   "source": [
    "sorted_rank = sorted(rank, reverse=True)\n",
    "print(sorted_rank)"
   ]
  },
  {
   "cell_type": "code",
   "execution_count": null,
   "metadata": {},
   "outputs": [],
   "source": []
  }
 ],
 "metadata": {
  "kernelspec": {
   "display_name": "Python 3",
   "language": "python",
   "name": "python3"
  },
  "language_info": {
   "codemirror_mode": {
    "name": "ipython",
    "version": 3
   },
   "file_extension": ".py",
   "mimetype": "text/x-python",
   "name": "python",
   "nbconvert_exporter": "python",
   "pygments_lexer": "ipython3",
   "version": "3.12.2"
  }
 },
 "nbformat": 4,
 "nbformat_minor": 2
}
