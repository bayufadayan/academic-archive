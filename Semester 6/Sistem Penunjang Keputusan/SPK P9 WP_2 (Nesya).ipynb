{
  "nbformat": 4,
  "nbformat_minor": 0,
  "metadata": {
    "colab": {
      "provenance": []
    },
    "kernelspec": {
      "name": "python3",
      "display_name": "Python 3"
    },
    "language_info": {
      "name": "python"
    }
  },
  "cells": [
    {
      "cell_type": "markdown",
      "source": [
        "Input Nilai Kriteria\n",
        "Tentukan Bobot\n",
        "Normalisasi\n",
        "Perhitungan Alternatif\n",
        "Peringkat"
      ],
      "metadata": {
        "id": "2uMl1LeaptK4"
      }
    },
    {
      "cell_type": "code",
      "execution_count": null,
      "metadata": {
        "colab": {
          "base_uri": "https://localhost:8080/"
        },
        "id": "iv4_d0H6phiK",
        "outputId": "3802f886-422a-4a26-ba6b-02fcb19fc068"
      },
      "outputs": [
        {
          "name": "stdout",
          "output_type": "stream",
          "text": [
            "masukan jumlah alternatif : 3\n"
          ]
        }
      ],
      "source": [
        "alternatif = []\n",
        "alt = int(input('masukan jumlah alternatif : '))"
      ]
    },
    {
      "cell_type": "code",
      "source": [
        "for i in range (0, alt) :\n",
        "  ele = input()\n",
        "  alternatif.append(ele)\n",
        "print(alternatif)"
      ],
      "metadata": {
        "colab": {
          "base_uri": "https://localhost:8080/"
        },
        "id": "-J9xp9lUqetd",
        "outputId": "810a5eff-064c-41bd-a424-61367d9fbccd"
      },
      "execution_count": null,
      "outputs": [
        {
          "output_type": "stream",
          "name": "stdout",
          "text": [
            "nesya\n",
            "garfield\n",
            "sayang\n",
            "['nesya', 'garfield', 'sayang']\n"
          ]
        }
      ]
    },
    {
      "cell_type": "code",
      "source": [
        "kriteria = []\n",
        "krt = int(input('masukan jumlah kriteria :'))"
      ],
      "metadata": {
        "colab": {
          "base_uri": "https://localhost:8080/"
        },
        "id": "fMvFsfcirDDr",
        "outputId": "05e96d38-bc96-432d-e40f-62f93ba10f16"
      },
      "execution_count": null,
      "outputs": [
        {
          "name": "stdout",
          "output_type": "stream",
          "text": [
            "masukan jumlah kriteria :3\n"
          ]
        }
      ]
    },
    {
      "cell_type": "code",
      "source": [
        "for i in range (0, krt) :\n",
        "  ele = input()\n",
        "  kriteria.append(ele)\n",
        "print(kriteria)"
      ],
      "metadata": {
        "colab": {
          "base_uri": "https://localhost:8080/"
        },
        "id": "TKQiihmIrt1I",
        "outputId": "931a8090-ad09-492e-b06f-cf8e87b0fca0"
      },
      "execution_count": null,
      "outputs": [
        {
          "output_type": "stream",
          "name": "stdout",
          "text": [
            "IPK\n",
            "Umur \n",
            "Jarak\n",
            "['IPK', 'Umur ', 'Jarak']\n"
          ]
        }
      ]
    },
    {
      "cell_type": "code",
      "source": [
        "bobot = []\n",
        "for i in range (0, krt) :\n",
        "  ele = float(input())\n",
        "  bobot.append(ele)\n",
        "print(bobot)"
      ],
      "metadata": {
        "colab": {
          "base_uri": "https://localhost:8080/"
        },
        "id": "_XIARdQdr3S5",
        "outputId": "58bc6985-1b52-4895-bf52-77374bf587a2"
      },
      "execution_count": null,
      "outputs": [
        {
          "output_type": "stream",
          "name": "stdout",
          "text": [
            "0.2\n",
            "0.4\n",
            "0.1\n",
            "[0.2, 0.4, 0.1]\n"
          ]
        }
      ]
    },
    {
      "cell_type": "code",
      "source": [
        "keterangan = []\n",
        "for i in range (0, krt) :\n",
        "  ele = input()\n",
        "  keterangan.append(ele)\n",
        "print(keterangan)"
      ],
      "metadata": {
        "colab": {
          "base_uri": "https://localhost:8080/"
        },
        "id": "zf-bJEaHsZWf",
        "outputId": "6a7815f0-d1cf-42e9-8832-9a5bcbf0f602"
      },
      "execution_count": null,
      "outputs": [
        {
          "output_type": "stream",
          "name": "stdout",
          "text": [
            "Benefit\n",
            "Cost\n",
            "Cost\n",
            "['Benefit', 'Cost', 'Cost']\n"
          ]
        }
      ]
    },
    {
      "cell_type": "code",
      "source": [
        "total_bobot = sum(bobot)\n",
        "print(total_bobot)"
      ],
      "metadata": {
        "colab": {
          "base_uri": "https://localhost:8080/"
        },
        "id": "kN5jEsess1ul",
        "outputId": "78e0f058-f272-4055-e183-008c12798686"
      },
      "execution_count": null,
      "outputs": [
        {
          "output_type": "stream",
          "name": "stdout",
          "text": [
            "0.7000000000000001\n"
          ]
        }
      ]
    },
    {
      "cell_type": "code",
      "source": [
        "if (total_bobot != 1) :\n",
        "  for i in range (0, krt) :\n",
        "    bobot[i] = bobot[i] / total_bobot\n",
        "print(bobot)\n",
        "print(round(total_bobot))"
      ],
      "metadata": {
        "colab": {
          "base_uri": "https://localhost:8080/"
        },
        "id": "LDxyxJedtFDR",
        "outputId": "a8fd372c-9c33-47d1-e98f-c57690ddd448"
      },
      "execution_count": null,
      "outputs": [
        {
          "output_type": "stream",
          "name": "stdout",
          "text": [
            "[0.5830903790087463, 1.1661807580174925, 0.29154518950437314]\n",
            "1\n"
          ]
        }
      ]
    },
    {
      "cell_type": "code",
      "source": [
        "nilai_alt = []\n",
        "nilai_krt = []\n",
        "\n",
        "for i in range (0, alt) :\n",
        "  for j in range (0, krt) :\n",
        "    ele = int(input())\n",
        "    nilai_krt.append(ele)\n",
        "    if len(nilai_krt) == krt :\n",
        "      nilai_alt.append(nilai_krt)\n",
        "      nilai_krt = []\n",
        "print(nilai_alt)\n"
      ],
      "metadata": {
        "colab": {
          "base_uri": "https://localhost:8080/"
        },
        "id": "7Pphif9jultV",
        "outputId": "b6e1bac9-8f45-4484-f3a2-acca39d8b732"
      },
      "execution_count": null,
      "outputs": [
        {
          "output_type": "stream",
          "name": "stdout",
          "text": [
            "3\n",
            "5\n",
            "3\n",
            "5\n",
            "3\n",
            "1\n",
            "1\n",
            "5\n",
            "3\n",
            "[[3, 5, 3], [5, 3, 1], [1, 5, 3]]\n"
          ]
        }
      ]
    },
    {
      "cell_type": "code",
      "source": [
        "for i in range (0, krt) :\n",
        "  if(keterangan[i] == 'Cost') :\n",
        "    bobot[i] = bobot[i] * -1\n",
        "\n",
        "print(kriteria)\n",
        "print(keterangan)\n",
        "print(bobot)"
      ],
      "metadata": {
        "colab": {
          "base_uri": "https://localhost:8080/"
        },
        "id": "sRu9ljnevnDO",
        "outputId": "d960638c-2aba-4b1a-f746-bbc0ffdaa52a"
      },
      "execution_count": null,
      "outputs": [
        {
          "output_type": "stream",
          "name": "stdout",
          "text": [
            "['IPK', 'Umur ', 'Jarak']\n",
            "['Benefit', 'Cost', 'Cost']\n",
            "[0.5830903790087463, -1.1661807580174925, -0.29154518950437314]\n"
          ]
        }
      ]
    },
    {
      "cell_type": "code",
      "source": [
        "nilai_alt_akhir = []\n",
        "nilai_krt_akhir = []\n",
        "\n",
        "for i in range (0, krt) :\n",
        "  for j in range (0, alt) :\n",
        "    ele = pow(nilai_alt[i][j], bobot[j])\n",
        "    nilai_krt_akhir.append(ele)\n",
        "    if len(nilai_krt_akhir) == krt :\n",
        "      nilai_alt_akhir.append(nilai_krt_akhir)\n",
        "      nilai_krt_akhir = []\n",
        "print(nilai_alt_akhir)"
      ],
      "metadata": {
        "colab": {
          "base_uri": "https://localhost:8080/"
        },
        "id": "AQ-0fcMfwipc",
        "outputId": "cf9b2d32-8358-4e33-e9db-b5b31cadf33f"
      },
      "execution_count": null,
      "outputs": [
        {
          "output_type": "stream",
          "name": "stdout",
          "text": [
            "[[1.8976006185453738, 0.15306455404598987, 0.7259347618602598], [2.5560108012620835, 0.2777092678653717, 1.0], [1.0, 0.15306455404598987, 0.7259347618602598]]\n"
          ]
        }
      ]
    },
    {
      "cell_type": "code",
      "source": [
        "from functools import reduce\n",
        "from operator import mul\n",
        "\n",
        "hasil = [reduce(mul, nilai_krt_akhir) for nilai_krt_akhir in nilai_alt_akhir]\n",
        "print(hasil)"
      ],
      "metadata": {
        "colab": {
          "base_uri": "https://localhost:8080/"
        },
        "id": "N_GhXNB4xfWM",
        "outputId": "d114c36b-e721-4df4-f3b2-b23f1760b140"
      },
      "execution_count": null,
      "outputs": [
        {
          "output_type": "stream",
          "name": "stdout",
          "text": [
            "[0.21085166613836065, 0.7098278882744753, 0.11111488059062254]\n"
          ]
        }
      ]
    },
    {
      "cell_type": "code",
      "source": [
        "nilai_akhir = sum(hasil)\n",
        "print(nilai_akhir)"
      ],
      "metadata": {
        "colab": {
          "base_uri": "https://localhost:8080/"
        },
        "id": "75pVCzonx4h1",
        "outputId": "95c85201-c8e9-41a8-a312-4bd2e69f3035"
      },
      "execution_count": null,
      "outputs": [
        {
          "output_type": "stream",
          "name": "stdout",
          "text": [
            "1.0317944350034585\n"
          ]
        }
      ]
    },
    {
      "cell_type": "code",
      "source": [
        "rank = []\n",
        "for i in range (0, alt) :\n",
        "  ranking = hasil[i] / nilai_akhir\n",
        "  rank.append(ranking)\n",
        "print(rank)"
      ],
      "metadata": {
        "colab": {
          "base_uri": "https://localhost:8080/"
        },
        "id": "flX8sXkHyH6j",
        "outputId": "be2a02db-75b0-429e-a979-afc99f0ca955"
      },
      "execution_count": null,
      "outputs": [
        {
          "output_type": "stream",
          "name": "stdout",
          "text": [
            "[0.20435433550061152, 0.6879547555149356, 0.10769090898445298]\n"
          ]
        }
      ]
    },
    {
      "cell_type": "code",
      "source": [
        "sorted_rank = sorted(rank, reverse = True)\n",
        "print(sorted_rank)"
      ],
      "metadata": {
        "colab": {
          "base_uri": "https://localhost:8080/"
        },
        "id": "3u1vK1JFyjdf",
        "outputId": "e2f27bc3-bfff-4e5c-b05a-912c034884fb"
      },
      "execution_count": null,
      "outputs": [
        {
          "output_type": "stream",
          "name": "stdout",
          "text": [
            "[0.6879547555149356, 0.20435433550061152, 0.10769090898445298]\n"
          ]
        }
      ]
    }
  ]
}