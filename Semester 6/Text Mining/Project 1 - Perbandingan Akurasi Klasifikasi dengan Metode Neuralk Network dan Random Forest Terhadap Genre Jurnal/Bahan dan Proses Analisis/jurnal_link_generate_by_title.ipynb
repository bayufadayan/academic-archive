{
  "nbformat": 4,
  "nbformat_minor": 0,
  "metadata": {
    "colab": {
      "provenance": []
    },
    "kernelspec": {
      "name": "python3",
      "display_name": "Python 3"
    },
    "language_info": {
      "name": "python"
    }
  },
  "cells": [
    {
      "cell_type": "code",
      "source": [
        "list_judul = [\"Rancang Bangun Aplikasi Pembelajaran Pengenalan Alat Musik Tradisional Bolaang Mongondow Berbasis Mobile\",\n",
        "\"Smart Card Berbasis RFID untuk Implementasi E-Parking System di Rumah Sakit Zahirah\",\n",
        "\"Pengembangan Media Pembelajaran Interaktif Sistem Tata Surya Menggunakan Metode Multimedia Development Life Cycle\",\n",
        "\"Sistem Pendukung Keputusan Rekomendasi Penginapan di Kawasan Pariwisata Guci Menggunakan Metode Vikor\",\n",
        "\"Implementasi Internet of Things Pada Sistem Pencarian Parkir Berbasis Mikrokontroller Node-MCU\",\n",
        "\"Penerapan Sistem Pendukung Keputusan pada Penerimaan Santri Baru dengan Metode Simple Additive Weighting (SAW) pada MTS Al Mahsyar Nurul Iman Tenggarong\",\n",
        "\"Sistem Penunjang Keputusan Pemilihan Pengurus OSIS menggunakan Metode Višekriterijumsko Kompromisno Rangiranje (VIKOR)\",\n",
        "\"Sistem Pendukung Keputusan Pemilihan Lahan Perkebunan Tanaman Lada Menggunakan Metode Simple Addtive Weighting Perbandingan Weighted Product Berbasis Web\",\n",
        "\"Sistem Pendukung Keputusan Rekomendasi Tanaman Obat Menggunakan ROC-MOORA\",\n",
        "\"Peramalan Stok Barang Percetakan dan ATK Menggunakan Single Moving Average\",\n",
        "\"Penerapan Metode Simple Additive Weighting Pada Sistem Pendukung Keputusan Pemberian Beasiswa di SMP Budi Luhur\",\n",
        "\"Analisis Sentimen Pembelajaran Tatap Muka dengan Apache SPARK\",\n",
        "\"Sistem Informasi Pengelolaan Arsip Surat Pada Dinas Pemberdayaan Masyarakat Dan Pemerintahan Desa Berbasis Web\",\n",
        "\"Implementasi Algoritma K-Means Untuk Analisis Penyebaran Kasus Konfirmasi Covid-19 di Kota Samarinda\",\n",
        "\"Sistem Informasi Administrasi Data Kependudukan Berbasis Web Pada Kantor Desa Benua Puhun\",\n",
        "\"Analisis Sistem Informasi Penjualan Toko Pakaian Happiness Menggunakan Soft System Methodology\",\n",
        "\"Mobile Augmented Reality Pengenalan Tanaman Dipterocarpaceae\",\n",
        "\"Pengembangan Media Pembelajaran IPS Di Sekolah Menengah Pertama\",\n",
        "\"Implementasi Contents Management System (CMS) Dalam Analisa dan Perancangan Sistem Informasi Kepegawaian Universitas Mulawarman\",\n",
        "\"Klasifikasi Senjata Tradisional Mandau Suku Dayak Menggunakan Metode Naive Bayes Classifier Berdasarkan Fitur Bentuk dan Tekstur\",\n",
        "\"Implementasi Teorema Naïve Bayes Pada Prediksi Prestasi Mahasiswa\",\n",
        "\"Sistem Pendukung Keputusan Penentuan Dosen Pembimbing Skripsi Menggunakan Metode Analytical Hierarchy Process (AHP) dan Weighted Product (WP)\",\n",
        "\"Rancang Bangun Media Pembelajaran Elektronika Analog Untuk Memahami Fungsi dan Karakteristik Op-Amp LM741\",\n",
        "\"Pengembangan Video Dokumenter (Kegiatan Mahasiswa) Di Lingkungan Informatika Universitas Mulawarman\",\n",
        "\"Video Company Profile Sebagai Media Promosi Sayuran Hidroponik Boekha Farm Samarinda\",\n",
        "\"ANALISIS KINERJA METODE ROUTING OSPF DAN RIP PADA MODELARSITEKTUR JARINGAN DI SMKN XYZ\",\n",
        "\"PERANCANGAN PENGEMBANGAN DESAIN ARSITEKTUR JARINGAN MENGGUNAKAN METODE PPDIOO\",\n",
        "\"PELATIHAN PEMBANGUNAN JARINGAN KOMPUTER DALAM PERENCANAAN ARSITEKTUR JARINGAN KOMPUTER KABUPATEN BANYUMAS\",\n",
        "\"TOP DOWN NETWORK DESIGN DALAM PERANCANGAN JARINGAN KOMPUTER PADA SMA NEGERI 1 INDRALAYA SELATAN\",\n",
        "\"Perancangan Arsitektur Jaringan Kampus Menggunakan Metode Network Development Life Cycle\",\n",
        "\"Pendampingan PenerapanJaringan Komputer Local Area Network Pada PT. Lintas Jaringan Nusantara Layanan Pali\",\n",
        "\"Perancangan Arsitektur Jaringan Komputer Pada Ruang Laboratorium dan Administrasi Pada SMK Negeri 7 Mataram\",\n",
        "\"Penerapan Metode Rekayasa Sistem Jaringan Komputer dalam Merancang Blueprint Jaringan Komputer (Studi Kasus: Hotel Maxone Palembang)\",\n",
        "\"Network Development Life Cycle (NDLC) Dalam Perancangan Jaringan Komputer Pada  Rumah Shalom Mahanaim\",\n",
        "\"Perancangan Arsitektur Jaringan Sekolah Menengah Kejuruan Dengan Menerapkan Konsep The Dude Server\",\n",
        "\"PELATIHAN APLIKASI PERMODELAN KOMPUTER BERBASIS RASH MODEL UNTUK ASSESMENT PENDIDIKAN BAGI GURU-GURU DI PONPES NURUL HARAMAIN PUTRA NARMADA\",\n",
        "\"AHP UNTUK PEMODELAN SPK PEMILIHANSEKOLAH TINGGI KOMPUTER\",\n",
        "\"PEMODELAN KIMIA KOMPUTASI\",\n",
        "\"Analisis dan Perancangan Arsitektur Pemodelan Simulasi Dalam Menentukan Calon Mahasiswa Non Aktif\",\n",
        "\"Pemodelan UML Sistem Informasi Geografis Pasar Tradisional Kota Pekanbaru\",\n",
        "\"PEMODELAN PROSES BISNIS AKADEMIK TEKNIK INFORMATIKA UNIVERSITAS TRUNOJOYO DENGAN BUSINESS PROCESS MODELLING NOTATION (BPMN)\",\n",
        "\"Pemodelan Proses Bisnis Pelayanan Aduan Publik pada Dinas Komunikasi dan Informatika Kabupaten Mojokerto dengan Menggunakan Business Process Model Notation (BPMN)\",\n",
        "\"PEMODELAN POTENSI BENCANA TANAH LONGSOR MENGGUNAKAN ANALISIS SIG DI KABUPATEN SEMARANG\",\n",
        "\"PEMODELAN TINGKAT RISIKO BENCANA TSUNAMIPADA PERMUKIMANDI KOTA BENGKULU MENGGUNAKAN SISTEM INFORMASI GEOGRAFIS\",\n",
        "\"Konfigurasi SSL Untuk Meningkatkan Keamanan Web server Pada Program Studi Teknik Informatika Universitas Muhammadiyah Surakarta\",\n",
        "\"PEMODELAN SPASIAL HABITAT BURUNG WALET SARANG PUTIH (COLLOCALIA FUCIPHAGA) DENGAN MENGGUNAKAN SIG (SISTEM INFORMASI GEOGRAFIS) DALAM UPAYA PENGEMBANGAN BUDIDAYA SARANG WALET DI JAWA TENGAH (STUDI KASUS KABUPATEN GROBOGAN DAN KABUPATEN SEMARANG)\",\n",
        "\"Perancangan E-Tracer Study berbasis Sistem Cerdas\",\n",
        "\"Penerapan Logika Fuzzy pada Sistem Cerdas\",\n",
        "\"Sistem Cerdas Kontrol Kran Air Menggunakan Mikrokontroler Arduino dan Sensor Ultrasonic\",\n",
        "\"RANCANGAN APLIKASI SISTEM CERDAS PEMBELAJARAN ILMU BANGUN DATAR SD NEGERI 01 CANDIRETNO\",\n",
        "\"Sistem Cerdas Reservasi dan Pemantauan Parkir pada Lokasi Kampus Berbasis Konsep Internet of Things\",\n",
        "\"SISTEM CERDAS PENGELOMPOKAN MAHASISWA BERDASARKAN PREDIKSI PERFORMA BELAJAR DENGAN METODE CASE BASED REASONING\",\n",
        "\"Penerapan Case-Based Reasoning pada Sistem Cerdas untuk Pendeteksian dan Penanganan Dini Penyakit Sapi\",\n",
        "\"SISTEM CERDAS PENYORTIR APEL BERDASARKAN WARNA DAN UKURAN BERBASIS MIKROKONTROLER ARDUINO\",\n",
        "\"PENGEMBANGAN SISTEM CERDAS MENGGUNAKAN PENALARAN BERBASIS KASUS (CASE BASED REASONING) UNTUK DIAGNOSA PENYAKIT AKIBAT VIRUS EKSANTEMA\",\n",
        "\"Peningkatan pengetahuan dan keterampilan pengelola bank sampah melalui sistem cerdas komunikasi pemasaran\",\n",
        "\"Alternatif Pengelolaan Pembelajaran Dalam Jaringan: Google Sites\",\n",
        "\"RANCANG BANGUN ARSITEKTUR JARINGAN KOMPUTER TEKNOLOGI METROPOLITAN AREA NETWORK (MAN) DENGAN MENGGUNAKAN METODE NETWORK DEVELOPMENT LIFE CYCLE (NDLC) (Studi Kasus : Universitas Majalengka)\",\n",
        "\"Penentuan Arsitektur Jaringan Syaraf Tiruan Backpropagation (Bobot Awal dan Bias Awal) Menggunakan Algoritma Genetika\",\n",
        "\"Analisis Arsitektur Jaringan Syaraf Tiruan Untuk Peramalan Penjualan Air Minum Dalam Kemasan\",\n",
        "\"Analisa dan Perancangan Arsitektur Jaringan Balai Teknik Kesehatan Lingkungan dan Penanggulangan Penyakit (BTKLPP)\",\n",
        "\"Analisa Performansi Controller Pada Arsitektur Jaringan Software Defined Network (SDN)\",\n",
        "\"Desain Arsitektur Jaringan Teknologi Informasi dan Komunikasi untuk Manado Smart city; Studi Kasus Pemerintah Kota Manado\",\n",
        "\"Implementasi Pencarian Jalur berdasarkan Bandwidth dengan menggunakan Algoritme Dijkstra pada Arsitektur Jaringan Software-Defined Networking (SDN)\",\n",
        "\"ARSITEKTUR JARINGAN LTE (LONG TERM EVOLUTION) UNTUK MENGATASI BACKHAUL CONNECTION WIFI PADA RURAL AREA DENGAN TEKNOLOGI FOURTH GENERATION (4G)\",\n",
        "\"PEMBELAJARAN BERTINGKAT PADA ARSITEKTUR JARINGAN SARAF FUNGSI RADIAL BASIS\",\n",
        "\"Pemodelan Bahasa\",\n",
        "\"PEMODELAN INDIKATOR TUJUAN PEMBANGUNAN BERKELANJUTAN DI INDONESIA\",\n",
        "\"Kebijakan Vaksinasi COVID-19: Pendekatan Pemodelan Matematika Dinamis Pada Efektivitas Dan Dampak Vaksin Di Indonesia\",\n",
        "\"PEMODELAN USE CASE (UML): EVALUASI TERHADAP BEBERAPA KESALAHAN DALAM PRAKTIK\",\n",
        "\"PEMODELAN UML SISTEM INFORMASI MONITORING PENJUALAN DAN STOK BARANG (STUDI KASUS: DISTRO ZHEZHA PONTIANAK)\",\n",
        "\"Digitalisasi Artefak pada Museum Lampung Menggunakan Teknik Fotogrametri Jarak Dekat untuk Pemodelan Artefak 3D\",\n",
        "\"Pemodelan UML untuk Sistem Informasi Persewaan Alat Pesta\",\n",
        "\"IMPLEMENTASI METODE JECKSON NETWORK QUEUE PADA PEMODELAN SISTEM ANTRIAN BOOKING PELAYANAN CAR WASH (STUDI KASUS: AUTOSHINE CAR WASH LAMPUNG)\",\n",
        "\"Analisis Sentimen dan Pemodelan Topik Pariwisata Lombok Menggunakan Algoritma Naive Bayes dan Latent Dirichlet Allocation\",\n",
        "\"PENERAPAN METODE WATERFALL PADA PENGEMBANGAN APLIKASI SISTEM INFORMASI JASA DAN PENJUALAN DENGAN PEMODELAN BERORIENTASI OBJEK\",\n",
        "\"Sistem Automasi Utiliti Rumah Menggunakan Suara\",\n",
        "\"Peningkatan Mutu Pendidikan Melalui Sistem Automasi Akreditasi Nasional Sekolah/ Madrasah\",\n",
        "\"Implementasi automasi perpustakaan: Studi kasus di Fakultas Adab dan Humaniora Universitas Islam Negeri Imam Bonjol\",\n",
        "\"Automasi Surat Perintah Perjalanan Dinas Berbasis Website Menggunakan Metode User Centered Design\",\n",
        "\"Penggunaan Metode Bioflok dalam Penerapan Sistem Automasi Pemberian Pakan pada Budidaya Lele di Desa Blang PunteutLhokseumawe\",\n",
        "\"AUTOMASI WHITENOISE DALAM SISTEM MONITORING BAYI UNTUK MEMBANTU BAYI TIDUR\",\n",
        "\"Automasi Bilik Sterilisasi Disenfektan Covid-19 dengan Mikrokontrol\",\n",
        "\"PENGENALAN AUTOMASI PERPUSTAKAAN TERINTEGRASI INLISLITE\",\n",
        "\"Automasi Hidroponik Indoor Sistem Wick dengan Pengaturan Penyinaran Menggunakan Growing Lights dan Pemberitahuan Nutrisi Berbasis SMS Gateway\",\n",
        "\"PERANCANGAN SISTEM AUTOMASI PADA PENGEMASAN SUSU DALAM BOTOL DENGAN PROGRAMMABLE LOGIC CONTROLLER (PLC) OMRON CP1E TERHADAP PURWARUPA FILLING BOTTLE AND CAPPING MACHINE\",\n",
        "\"Aplikasi Pembelajaran Matematika Interaktif Berbasis Multimedia\",\n",
        "\"Pengembangan Media Pembelajaran Kognitif Berbasis Multimedia di TK Negeri Pembina Padang\",\n",
        "\"Pengembangan Media Pembelajaran Statistika Berbasis Multimedia\",\n",
        "\"Pengembangan Media Pembelajaran Matematika Berbasis Multimedia Interaktif menggunakan Adobe Flash Pada Materi Deret Aritmatika\",\n",
        "\"ANALISIS PERMENDIKBUD RISTEK NO 30 TAHUN 2021 DAN KONSTRUKSI SOSIAL KEKERASAN SEKSUAL DI PERGURUAN TINGGI PERSPEKTIF SOSIOLOGIS\",\n",
        "\"Analisis Sentimen Pro dan Kontra Masyarakat Indonesia tentang Vaksin COVID-19 pada Media Sosial Twitter\",\n",
        "\"Sejarah Kerajaan Turki Usmani\",\n",
        "\"Metode Takhrij Hadits Dalam Menakar Hadits Nabi\",\n",
        "\"Gharib al-Hadits sebagai Embriologi Syarah Hadits dan Transformasinya\",\n",
        "\"ANALISIS FAKTOR-FAKTOR TERHADAP PENGAMBILAN KEPUTUSAN CALON MAHASISWA UNTUK MEMILIH JURUSAN PENDIDIKAN AGAMA ISLAM\",\n",
        "\"Menertawakan Fobia Komunis di Era Reproduksi Digital\",\n",
        "\"Dampak Toxic Parents dalam Kesehatan Mental Anak\",\n",
        "\"ANALISIS KIAT SUKSES PO DALAM FILM “KUNGFU PANDA\",\n",
        "\"PENENTUAN UMUR FOSIL MANUSIA PURBA DI JAWA BERDASARKAN MAGNETOSTRATIGRAFI\",\n",
        "\"Pemodelan Matematika SEIR Penyebaran Penyakit Pneumonia pada Balita dengan Pengaruh Vaksinasi di Kota Makassar\",\n",
        "\"Pemodelan Matematika untuk Prediksi Penyebaran Penyakit Infeksi pada Populasi Menggunakan Pendekatan Jaringan Saraf Tiruan\",\n",
        "\"Pemodelan Dan Simulasi Penyebaran Penyakit Covid-19 Dengan Menggunakan Model Cellular Automata\",\n",
        "\"Simulasi numerik model matematika untuk menganalisis relasi antara korupsi dan dinamika penyebaran penyakit menular\",\n",
        "\"PEMBUATAN DAN PENERAPAN ANIMASI PEMBELAJARAN DENGAN MENGGUNAKAN METODE VILLAMIL - MOLINA\",\n",
        "\"ANALISIS DAN SIMULASI MODEL SUSCEPTIBLE INFECTIVE TREATMENT RECOVERY PADA PENYEBARAN PENYAKIT MALARIA DI KOTA MEDAN\",\n",
        "\"Pemodelan Matematika SEIRS Pada Penyebaran Penyakit Malaria di Kabupaten Mimika\",\n",
        "\"PENERAPAN ANIMASI 3D PADA MEDIA PEMBELAJARAN MENGENAL HURUF VOKAL UNTUK ANAK 2-4 TAHUN\",\n",
        "\"Penerapan Game Development Life Cycle Untuk Video Game Dengan Model Role Playing Game\",\n",
        "\"PENERAPAN GAME-BASED LEARNING SEBAGAI ALTERNATIF SOLUSI MENGAJAR DI KELAS HETEROGEN\",\n",
        "\"Konsep Robot Penjaga Toko Di Kombinasikan Dengan Pengendalian Virtual Reality (VR) Jarak Jauh\",\n",
        "\"PENERAPAN VIRTUAL REALITY MENGGUNAKAN METODE RAPID APPLICATION DEVELOPMENT PADA MEDIA PEMBELAJARAN PENGENALAN SATWA ENDEMIK TAMAN NASIONAL UJUNG KULON\",\n",
        "\"Penerapan Virtual Reality Sebagai Media Pengenalan Batik\",\n",
        "\"PERANCANGAN UI/UX APLIKASI MY CIC LAYANAN INFORMASI AKADEMIK MAHASISWA MENGGUNAKAN APLIKASI FIGMA\",\n",
        "\"PERANCANGAN UI/UX SEMARANG VIRTUAL TOURISM DENGAN FIGMA\",\n",
        "\"PERANCANGAN UI/UX PADA APLIKASI PEMESANAN BUKET MENGGUNAKAN METODE USER CENTERED DESIGN (STUDI KASUS: BOUQUET LAMPUNG)\",\n",
        "\"Implementasi Multimedia Development Life Cycle Pada Aplikasi Pembelajaran Multimedia Interaktif Algoritma dan Pemrograman Dasar Untuk Mahasiswa Berkebutuhan Khusus Berbasis Android\"\n",
        "]"
      ],
      "metadata": {
        "id": "nMWIEzIEKGer"
      },
      "execution_count": 1,
      "outputs": []
    },
    {
      "cell_type": "code",
      "execution_count": 3,
      "metadata": {
        "id": "blv_gYiII_Py"
      },
      "outputs": [],
      "source": [
        "def create_google_search_links(titles):\n",
        "    base_url = \"https://www.google.com/search?q=\"\n",
        "    links = []\n",
        "    for title in titles:\n",
        "        # Mengganti spasi dengan '+'\n",
        "        formatted_title = title.replace(\" \", \"+\")\n",
        "        # Membuat URL lengkap\n",
        "        link = base_url + formatted_title + \"&gs_lcrp=EgZjaHJvbWUyBggAEEUYOTIGCAEQLhhA0gEHMzQzajBqMagCALACAA&sourceid=chrome&ie=UTF-8\"\n",
        "        links.append(link)\n",
        "    return links"
      ]
    },
    {
      "cell_type": "code",
      "source": [
        "# Memanggil fungsi untuk membuat link\n",
        "links = create_google_search_links(list_judul)\n",
        "\n",
        "# Menyimpan link ke dalam file teks\n",
        "with open('links.txt', 'w') as file:\n",
        "    for link in links:\n",
        "        file.write(link + '\\n')\n",
        "\n",
        "print(\"Links have been saved to 'links.txt'\")"
      ],
      "metadata": {
        "colab": {
          "base_uri": "https://localhost:8080/"
        },
        "id": "xTwY39lOLFdc",
        "outputId": "466ec473-0c54-42eb-f0da-5d8f6c5779ee"
      },
      "execution_count": 4,
      "outputs": [
        {
          "output_type": "stream",
          "name": "stdout",
          "text": [
            "Links have been saved to 'links.txt'\n"
          ]
        }
      ]
    },
    {
      "cell_type": "code",
      "source": [],
      "metadata": {
        "id": "397w83g5LIZe"
      },
      "execution_count": null,
      "outputs": []
    }
  ]
}